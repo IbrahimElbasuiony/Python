{
  "nbformat": 4,
  "nbformat_minor": 0,
  "metadata": {
    "colab": {
      "provenance": []
    },
    "kernelspec": {
      "name": "python3",
      "display_name": "Python 3"
    },
    "language_info": {
      "name": "python"
    }
  },
  "cells": [
    {
      "cell_type": "code",
      "execution_count": null,
      "metadata": {
        "id": "dPDTH4mypBZI"
      },
      "outputs": [],
      "source": [
        "import itertools\n",
        "\n",
        "import pandas as pd\n",
        "\n",
        "import numpy as np\n",
        "\n",
        "import re\n",
        "\n",
        "import os\n",
        "\n",
        "from tqdm import tqdm\n",
        "\n",
        "import matplotlib.pyplot as plt\n",
        "from keras.layers import Input,Dense,LSTM,Reshape\n",
        "from keras.models import Model, Sequential\n",
        "import tensorflow as tf\n",
        "from sklearn.metrics.pairwise import euclidean_distances"
      ]
    },
    {
      "cell_type": "markdown",
      "source": [
        "**Data set**\\\n",
        "the data set used to train the model wasn't the whole 10 file that was in project description as we faced a Memory value problem whem we try to use the dataset.\\\n",
        "the data set is a very large number of Emails that contain too many words on each file the minmium number of word on the min file size is over 85K word which need a memory very large size to store this word.\\\n",
        "we select a random mails from the data and but it on csv file named New Microsoft Excel Worksheet.csv and trained our model on it.\\\n",
        "***Note***\n",
        "we also added the code for loading the entire dataset from our drive but as a comment if want to try and also provide a description about the problem and when it happen and why.\\\n",
        "***Important***\\\n",
        "please don't try to run the commented code on your personal laptop as each file need 11.3 GB of ram to one-hot encode it and google colab provide only 12 GB ram which lost 4.2GB of ram in reading the files only"
      ],
      "metadata": {
        "id": "uBzZObCFQTM-"
      }
    },
    {
      "cell_type": "code",
      "source": [
        "Book1 = pd.read_csv('/content/New Microsoft Excel Worksheet.csv')"
      ],
      "metadata": {
        "id": "X5p4NGXsq0j0"
      },
      "execution_count": null,
      "outputs": []
    },
    {
      "cell_type": "code",
      "source": [
        "Book1"
      ],
      "metadata": {
        "id": "sJZgYfvMMFrF"
      },
      "execution_count": null,
      "outputs": []
    },
    {
      "cell_type": "markdown",
      "source": [
        "***Text preprocessing***\\\n",
        "the following function used to preprocessing the text by removing punctuations, stop words, newlines, taps and numbers than return the clean text"
      ],
      "metadata": {
        "id": "bhFtJZDKSsks"
      }
    },
    {
      "cell_type": "code",
      "source": [
        "# preprocessing the text\n",
        "def text_preprocessing(text)->list:\n",
        "  punctuations = r'''!()-[]{};:'\"\\,<>./?@#$%^&*_“~''',\n",
        "\n",
        "  stop_words=['and', 'a', 'is', 'the', 'in', 'be', 'will', 'was', 'but' , 'this', 'were', 'with', 'of' ,'also', 'on', '.' , 'for', 'any', 'its', 'and', 'are', 'from', 'both', 'as','so','many']\n",
        "\n",
        "  for x in text.lower():\n",
        "    if x in punctuations:\n",
        "      text=text.replace(x,\"\")\n",
        "  text = re.sub(r'\\w*\\d\\w*', '', text)\n",
        "  text = re.sub(r'[0-9]+', '', text)\n",
        "  text = re.sub(r'\\s+', ' ', text).strip()\n",
        "  text = text.lower()\n",
        "  text = text.split(' ')\n",
        "  text = [x for x in text if x!='']\n",
        "  text = [x for x in text if x not in stop_words]\n",
        "  return text"
      ],
      "metadata": {
        "id": "BL__85IHpJf6"
      },
      "execution_count": null,
      "outputs": []
    },
    {
      "cell_type": "markdown",
      "source": [
        "***win function \"Windows\"***\\\n",
        "this function used to take windows from the taxts\\\n",
        "for example if the texts is I love Python and C++ and windows = 2  if the loop stoped on Python the windows work to take 2 word befor it and to after it as output if the word python showed\n",
        "['python','and'],['python','C++'], ['I','python'], ['love','python']"
      ],
      "metadata": {
        "id": "kCsSShWVTMG-"
      }
    },
    {
      "cell_type": "code",
      "source": [
        "def win(text):\n",
        "  windows = 2\n",
        "  word_list =[]\n",
        "  all_text = []\n",
        "  for text in text:\n",
        "    text = text_preprocessing(text)\n",
        "    all_text +=text\n",
        "    for i,word in enumerate(text):\n",
        "      for w in range(windows):\n",
        "        if i+1+w <len(text):\n",
        "          word_list.append([word]+[text[(i+1+w)]])\n",
        "        if i-w-1 >=0:\n",
        "          word_list.append([word]+[text[i-w-1]])\n",
        "  return word_list,all_text\n"
      ],
      "metadata": {
        "id": "ngPTWAfxZyFW"
      },
      "execution_count": null,
      "outputs": []
    },
    {
      "cell_type": "markdown",
      "source": [
        "***create unique dict function***\\\n",
        "this function take the all preprocced text and start to create a dict that contain unique words if any word has a freq he take it once\\\n",
        "the most important part is this function take a list then each word became a key and it's index became a value\\\n",
        "for example if the list is ['i', 'love','python'] the dict will be\n",
        "dict =\\\n",
        " {'i':0,\\\n",
        "        'love':1,\\\n",
        "        'python': 2\\\n",
        "}\\\n",
        "the value of the dict will be used latter on one hot encoded"
      ],
      "metadata": {
        "id": "ZZqY08mlUZ5V"
      }
    },
    {
      "cell_type": "code",
      "source": [
        "def create_unique_word_dict(text:list) -> dict:\n",
        "  words=list(set(text))\n",
        "  words.sort()\n",
        "  unique_word_dict ={}\n",
        "  for i, word in enumerate(words):\n",
        "    unique_word_dict.update({word:i})\n",
        "  return unique_word_dict"
      ],
      "metadata": {
        "id": "jWkvByeebQSy"
      },
      "execution_count": null,
      "outputs": []
    },
    {
      "cell_type": "markdown",
      "source": [
        "***one hot***\\\n",
        "this function used to one-hot encoded the data\\\n",
        "it's take the output of the win function and unique dict function to one hot encoded the data\\\n",
        "****\n",
        "**How it works**\\\n",
        "the function loop over the word_list that created with windows function it's a list each index contain a list of size of windows and as we declear windows = 2 each index of this list contain two words ['input','output'] we take each list and check 'input index' 'output index' on unique dict as we mentiond the key of the dict is the word and the value it's index.\\\n",
        "then we create a numpy array with the size of all words if we have 1000 word the size of each row is 1000 \"here is the problem when the data is too large\"\\\n",
        "then check the value of the word and set the array index crrospond to value by 1\\\n",
        "for example if we have two word than the numpy array will contain two rows each row has two cols \"just to clearfiy\"\n",
        "words = ['python','c++']\\\n",
        "dict = {'python':0,'c++':1}\\\n",
        "np_array = [[0,0],[0,0]]\\\n",
        "the word python index in words list is 0 and it's value of dict is 0 so the list on numpy array that represent the word is 0 which is it's index on word_list and the index of this list that will be 1 is 0 the value of dict\\\n",
        "np_array = [[1,0],[0,0]]\\\n",
        "as well for c++ it's index on word_list is 1 and value on dict is 1 so the list represent it on the np array is index 1 and the index will assign to one is 1\\\n",
        "np.array = [[1,0]=>python,[0,1]=>c++]\n",
        "****\n",
        "*here is the problem*\\\n",
        "as we said the min file has over 85k of words the numpy array size will contain over 85k list each list with size over 85k this need alot of memory"
      ],
      "metadata": {
        "id": "jL0_KxtLVmv0"
      }
    },
    {
      "cell_type": "code",
      "source": [
        "def one_hot(unique_word_dict,word_list):\n",
        "  X=[]\n",
        "  Y=[]\n",
        "  for i,word_list in tqdm(enumerate(word_list)):\n",
        "    main_word_index = unique_word_dict.get(word_list[0])\n",
        "    context_word_index = unique_word_dict.get(word_list[1])\n",
        "    #print(word_list[0], main_word_index)\n",
        "\n",
        "    #print(word_list[1] , context_word_index)\n",
        "    X_row = np.zeros(n_words)\n",
        "    Y_row = np.zeros(n_words)\n",
        "    X_row[main_word_index]=1\n",
        "    Y_row[context_word_index]=1\n",
        "    X.append(X_row)\n",
        "    Y.append(Y_row)\n",
        "  return X,Y"
      ],
      "metadata": {
        "id": "ORA18sj6bvd1"
      },
      "execution_count": null,
      "outputs": []
    },
    {
      "cell_type": "markdown",
      "source": [
        "**get embedding**\\\n",
        "used to create a dict it's key is the word and value is the model wieght for the word used to get the weights of the model prediction as word"
      ],
      "metadata": {
        "id": "4uXu9ioCaJM9"
      }
    },
    {
      "cell_type": "code",
      "source": [
        "def get_embedding(unique_word_dict,weights):\n",
        "  embedding_dict = {}\n",
        "\n",
        "  for word in unique_word_dict:\n",
        "\n",
        "    embedding_dict.update({\n",
        "\n",
        "    word: weights[unique_word_dict.get(word)]\n",
        "\n",
        "    })\n",
        "  return embedding_dict"
      ],
      "metadata": {
        "id": "_fT4lj87dhhP"
      },
      "execution_count": null,
      "outputs": []
    },
    {
      "cell_type": "markdown",
      "source": [
        "**Plotting**\\\n",
        "used during the training phase to plot each word and it's distant between other words\\\n",
        "the words that have the same meaning or close plotting close to other"
      ],
      "metadata": {
        "id": "vIUrmiwPabT8"
      }
    },
    {
      "cell_type": "code",
      "source": [
        "def plotting(unique_word_dict,embedding_dict):\n",
        "\n",
        "  plt.figure(figsize=(20, 20))\n",
        "\n",
        "  i = 0\n",
        "\n",
        "  for word in list(unique_word_dict.keys()):\n",
        "\n",
        "    print (i , ' >> ' , word)\n",
        "\n",
        "    coord = embedding_dict.get(word)\n",
        "\n",
        "    plt.scatter(coord[0], coord[1])\n",
        "\n",
        "    plt.annotate(word, (coord[0], coord[1]))\n",
        "\n",
        "    i = i+1"
      ],
      "metadata": {
        "id": "HkTag0yRdJRZ"
      },
      "execution_count": null,
      "outputs": []
    },
    {
      "cell_type": "markdown",
      "source": [
        "**Convert to tensor**\\\n",
        "convert the numpy array that contain the obe-hot encoded for the input and output words to tensor datatype which is the standered dtype used in tensorflow models"
      ],
      "metadata": {
        "id": "O8QCEtbTa0D0"
      }
    },
    {
      "cell_type": "code",
      "source": [
        "def convert_tensors(X,Y):\n",
        "  XX = tf.convert_to_tensor(X, dtype=tf.float32)\n",
        "\n",
        "  YY = tf.convert_to_tensor(Y, dtype=tf.float32)\n",
        "\n",
        "  print(XX.shape)\n",
        "\n",
        "  print(YY.shape)\n",
        "  return XX,YY"
      ],
      "metadata": {
        "id": "WD35fJX-6obe"
      },
      "execution_count": null,
      "outputs": []
    },
    {
      "cell_type": "markdown",
      "source": [
        "**Create the model**\\\n",
        "the first two layers is word2vec layers used the one-hot encoded tensors to train word2vec\\\n",
        "the other layer is LSTM layer from keras"
      ],
      "metadata": {
        "id": "Kprkfuq0bPMk"
      }
    },
    {
      "cell_type": "code",
      "source": [
        "def CreateModel():\n",
        "\n",
        "# Defining the size of the embedding\n",
        "\n",
        "  embed_size = 2\n",
        "\n",
        "# Defining the neural network\n",
        "\n",
        "#inp = Input(shape=(X.shape[1],))\n",
        "\n",
        "  inp = Input(shape=XX.shape[1]) #21\n",
        "\n",
        "  x = Dense(units=embed_size, activation='linear')(inp)\n",
        "\n",
        "  x = Dense(units=embed_size, activation='sigmoid')(x)\n",
        "  x = Reshape((1, embed_size))(x)\n",
        "  x = LSTM(128)(x)\n",
        "  x = Dense(units=YY.shape[1],activation='softmax')(x)\n",
        "\n",
        "  model = Model(inputs=inp, outputs=x)\n",
        "\n",
        "  model.compile(loss = 'categorical_crossentropy', optimizer = 'adam')\n",
        "\n",
        "  model.summary()\n",
        "\n",
        "  return model"
      ],
      "metadata": {
        "id": "i3t8iKUJ6zt7"
      },
      "execution_count": null,
      "outputs": []
    },
    {
      "cell_type": "code",
      "source": [
        "word_list,all_text = win(Book1)\n",
        "unique_word_dict = create_unique_word_dict(all_text)\n",
        "n_words = len(unique_word_dict)\n",
        "X,Y = one_hot(unique_word_dict=unique_word_dict,word_list=word_list)\n"
      ],
      "metadata": {
        "id": "dWsACZQo4B1g",
        "colab": {
          "base_uri": "https://localhost:8080/"
        },
        "outputId": "634579c0-7a42-4399-9511-f97372972e43"
      },
      "execution_count": null,
      "outputs": [
        {
          "output_type": "stream",
          "name": "stderr",
          "text": [
            "222it [00:00, 249768.10it/s]\n"
          ]
        }
      ]
    },
    {
      "cell_type": "code",
      "source": [
        "XX,YY = convert_tensors(X,Y)"
      ],
      "metadata": {
        "id": "rSuSnEGVfJ6K",
        "colab": {
          "base_uri": "https://localhost:8080/"
        },
        "outputId": "09a09116-04e7-4925-cd1f-2d37b79b93f4"
      },
      "execution_count": null,
      "outputs": [
        {
          "output_type": "stream",
          "name": "stdout",
          "text": [
            "(222, 47)\n",
            "(222, 47)\n"
          ]
        }
      ]
    },
    {
      "cell_type": "code",
      "source": [
        "model = CreateModel()\n",
        "model.fit(XX,YY,epochs=100)"
      ],
      "metadata": {
        "id": "WcgWW6vH67bE",
        "colab": {
          "base_uri": "https://localhost:8080/"
        },
        "outputId": "ad0f9b21-78f1-4e3d-fff0-e4f441a155de"
      },
      "execution_count": null,
      "outputs": [
        {
          "output_type": "stream",
          "name": "stdout",
          "text": [
            "Model: \"model\"\n",
            "_________________________________________________________________\n",
            " Layer (type)                Output Shape              Param #   \n",
            "=================================================================\n",
            " input_1 (InputLayer)        [(None, 47)]              0         \n",
            "                                                                 \n",
            " dense (Dense)               (None, 2)                 96        \n",
            "                                                                 \n",
            " dense_1 (Dense)             (None, 2)                 6         \n",
            "                                                                 \n",
            " reshape (Reshape)           (None, 1, 2)              0         \n",
            "                                                                 \n",
            " lstm (LSTM)                 (None, 128)               67072     \n",
            "                                                                 \n",
            " dense_2 (Dense)             (None, 47)                6063      \n",
            "                                                                 \n",
            "=================================================================\n",
            "Total params: 73,237\n",
            "Trainable params: 73,237\n",
            "Non-trainable params: 0\n",
            "_________________________________________________________________\n",
            "Epoch 1/100\n",
            "7/7 [==============================] - 2s 4ms/step - loss: 3.8487\n",
            "Epoch 2/100\n",
            "7/7 [==============================] - 0s 3ms/step - loss: 3.8447\n",
            "Epoch 3/100\n",
            "7/7 [==============================] - 0s 3ms/step - loss: 3.8418\n",
            "Epoch 4/100\n",
            "7/7 [==============================] - 0s 3ms/step - loss: 3.8386\n",
            "Epoch 5/100\n",
            "7/7 [==============================] - 0s 3ms/step - loss: 3.8356\n",
            "Epoch 6/100\n",
            "7/7 [==============================] - 0s 3ms/step - loss: 3.8326\n",
            "Epoch 7/100\n",
            "7/7 [==============================] - 0s 3ms/step - loss: 3.8288\n",
            "Epoch 8/100\n",
            "7/7 [==============================] - 0s 4ms/step - loss: 3.8249\n",
            "Epoch 9/100\n",
            "7/7 [==============================] - 0s 3ms/step - loss: 3.8207\n",
            "Epoch 10/100\n",
            "7/7 [==============================] - 0s 3ms/step - loss: 3.8161\n",
            "Epoch 11/100\n",
            "7/7 [==============================] - 0s 4ms/step - loss: 3.8112\n",
            "Epoch 12/100\n",
            "7/7 [==============================] - 0s 3ms/step - loss: 3.8067\n",
            "Epoch 13/100\n",
            "7/7 [==============================] - 0s 3ms/step - loss: 3.8015\n",
            "Epoch 14/100\n",
            "7/7 [==============================] - 0s 3ms/step - loss: 3.7973\n",
            "Epoch 15/100\n",
            "7/7 [==============================] - 0s 4ms/step - loss: 3.7921\n",
            "Epoch 16/100\n",
            "7/7 [==============================] - 0s 4ms/step - loss: 3.7875\n",
            "Epoch 17/100\n",
            "7/7 [==============================] - 0s 3ms/step - loss: 3.7841\n",
            "Epoch 18/100\n",
            "7/7 [==============================] - 0s 3ms/step - loss: 3.7799\n",
            "Epoch 19/100\n",
            "7/7 [==============================] - 0s 3ms/step - loss: 3.7775\n",
            "Epoch 20/100\n",
            "7/7 [==============================] - 0s 4ms/step - loss: 3.7753\n",
            "Epoch 21/100\n",
            "7/7 [==============================] - 0s 4ms/step - loss: 3.7729\n",
            "Epoch 22/100\n",
            "7/7 [==============================] - 0s 6ms/step - loss: 3.7715\n",
            "Epoch 23/100\n",
            "7/7 [==============================] - 0s 3ms/step - loss: 3.7703\n",
            "Epoch 24/100\n",
            "7/7 [==============================] - 0s 4ms/step - loss: 3.7697\n",
            "Epoch 25/100\n",
            "7/7 [==============================] - 0s 4ms/step - loss: 3.7688\n",
            "Epoch 26/100\n",
            "7/7 [==============================] - 0s 3ms/step - loss: 3.7685\n",
            "Epoch 27/100\n",
            "7/7 [==============================] - 0s 4ms/step - loss: 3.7682\n",
            "Epoch 28/100\n",
            "7/7 [==============================] - 0s 3ms/step - loss: 3.7674\n",
            "Epoch 29/100\n",
            "7/7 [==============================] - 0s 4ms/step - loss: 3.7674\n",
            "Epoch 30/100\n",
            "7/7 [==============================] - 0s 4ms/step - loss: 3.7673\n",
            "Epoch 31/100\n",
            "7/7 [==============================] - 0s 4ms/step - loss: 3.7666\n",
            "Epoch 32/100\n",
            "7/7 [==============================] - 0s 4ms/step - loss: 3.7663\n",
            "Epoch 33/100\n",
            "7/7 [==============================] - 0s 3ms/step - loss: 3.7663\n",
            "Epoch 34/100\n",
            "7/7 [==============================] - 0s 3ms/step - loss: 3.7656\n",
            "Epoch 35/100\n",
            "7/7 [==============================] - 0s 4ms/step - loss: 3.7658\n",
            "Epoch 36/100\n",
            "7/7 [==============================] - 0s 3ms/step - loss: 3.7650\n",
            "Epoch 37/100\n",
            "7/7 [==============================] - 0s 3ms/step - loss: 3.7648\n",
            "Epoch 38/100\n",
            "7/7 [==============================] - 0s 3ms/step - loss: 3.7645\n",
            "Epoch 39/100\n",
            "7/7 [==============================] - 0s 4ms/step - loss: 3.7641\n",
            "Epoch 40/100\n",
            "7/7 [==============================] - 0s 3ms/step - loss: 3.7635\n",
            "Epoch 41/100\n",
            "7/7 [==============================] - 0s 3ms/step - loss: 3.7630\n",
            "Epoch 42/100\n",
            "7/7 [==============================] - 0s 3ms/step - loss: 3.7628\n",
            "Epoch 43/100\n",
            "7/7 [==============================] - 0s 4ms/step - loss: 3.7621\n",
            "Epoch 44/100\n",
            "7/7 [==============================] - 0s 3ms/step - loss: 3.7615\n",
            "Epoch 45/100\n",
            "7/7 [==============================] - 0s 4ms/step - loss: 3.7605\n",
            "Epoch 46/100\n",
            "7/7 [==============================] - 0s 3ms/step - loss: 3.7600\n",
            "Epoch 47/100\n",
            "7/7 [==============================] - 0s 3ms/step - loss: 3.7601\n",
            "Epoch 48/100\n",
            "7/7 [==============================] - 0s 4ms/step - loss: 3.7588\n",
            "Epoch 49/100\n",
            "7/7 [==============================] - 0s 3ms/step - loss: 3.7579\n",
            "Epoch 50/100\n",
            "7/7 [==============================] - 0s 3ms/step - loss: 3.7567\n",
            "Epoch 51/100\n",
            "7/7 [==============================] - 0s 3ms/step - loss: 3.7557\n",
            "Epoch 52/100\n",
            "7/7 [==============================] - 0s 4ms/step - loss: 3.7549\n",
            "Epoch 53/100\n",
            "7/7 [==============================] - 0s 4ms/step - loss: 3.7538\n",
            "Epoch 54/100\n",
            "7/7 [==============================] - 0s 3ms/step - loss: 3.7522\n",
            "Epoch 55/100\n",
            "7/7 [==============================] - 0s 3ms/step - loss: 3.7505\n",
            "Epoch 56/100\n",
            "7/7 [==============================] - 0s 3ms/step - loss: 3.7491\n",
            "Epoch 57/100\n",
            "7/7 [==============================] - 0s 3ms/step - loss: 3.7470\n",
            "Epoch 58/100\n",
            "7/7 [==============================] - 0s 3ms/step - loss: 3.7453\n",
            "Epoch 59/100\n",
            "7/7 [==============================] - 0s 3ms/step - loss: 3.7429\n",
            "Epoch 60/100\n",
            "7/7 [==============================] - 0s 3ms/step - loss: 3.7402\n",
            "Epoch 61/100\n",
            "7/7 [==============================] - 0s 4ms/step - loss: 3.7374\n",
            "Epoch 62/100\n",
            "7/7 [==============================] - 0s 5ms/step - loss: 3.7346\n",
            "Epoch 63/100\n",
            "7/7 [==============================] - 0s 3ms/step - loss: 3.7308\n",
            "Epoch 64/100\n",
            "7/7 [==============================] - 0s 3ms/step - loss: 3.7268\n",
            "Epoch 65/100\n",
            "7/7 [==============================] - 0s 3ms/step - loss: 3.7224\n",
            "Epoch 66/100\n",
            "7/7 [==============================] - 0s 4ms/step - loss: 3.7177\n",
            "Epoch 67/100\n",
            "7/7 [==============================] - 0s 3ms/step - loss: 3.7124\n",
            "Epoch 68/100\n",
            "7/7 [==============================] - 0s 3ms/step - loss: 3.7068\n",
            "Epoch 69/100\n",
            "7/7 [==============================] - 0s 3ms/step - loss: 3.6999\n",
            "Epoch 70/100\n",
            "7/7 [==============================] - 0s 3ms/step - loss: 3.6939\n",
            "Epoch 71/100\n",
            "7/7 [==============================] - 0s 3ms/step - loss: 3.6859\n",
            "Epoch 72/100\n",
            "7/7 [==============================] - 0s 4ms/step - loss: 3.6773\n",
            "Epoch 73/100\n",
            "7/7 [==============================] - 0s 3ms/step - loss: 3.6689\n",
            "Epoch 74/100\n",
            "7/7 [==============================] - 0s 3ms/step - loss: 3.6597\n",
            "Epoch 75/100\n",
            "7/7 [==============================] - 0s 3ms/step - loss: 3.6496\n",
            "Epoch 76/100\n",
            "7/7 [==============================] - 0s 5ms/step - loss: 3.6403\n",
            "Epoch 77/100\n",
            "7/7 [==============================] - 0s 4ms/step - loss: 3.6293\n",
            "Epoch 78/100\n",
            "7/7 [==============================] - 0s 3ms/step - loss: 3.6186\n",
            "Epoch 79/100\n",
            "7/7 [==============================] - 0s 3ms/step - loss: 3.6085\n",
            "Epoch 80/100\n",
            "7/7 [==============================] - 0s 3ms/step - loss: 3.5977\n",
            "Epoch 81/100\n",
            "7/7 [==============================] - 0s 3ms/step - loss: 3.5869\n",
            "Epoch 82/100\n",
            "7/7 [==============================] - 0s 3ms/step - loss: 3.5760\n",
            "Epoch 83/100\n",
            "7/7 [==============================] - 0s 3ms/step - loss: 3.5656\n",
            "Epoch 84/100\n",
            "7/7 [==============================] - 0s 4ms/step - loss: 3.5559\n",
            "Epoch 85/100\n",
            "7/7 [==============================] - 0s 3ms/step - loss: 3.5468\n",
            "Epoch 86/100\n",
            "7/7 [==============================] - 0s 4ms/step - loss: 3.5376\n",
            "Epoch 87/100\n",
            "7/7 [==============================] - 0s 3ms/step - loss: 3.5285\n",
            "Epoch 88/100\n",
            "7/7 [==============================] - 0s 4ms/step - loss: 3.5205\n",
            "Epoch 89/100\n",
            "7/7 [==============================] - 0s 5ms/step - loss: 3.5121\n",
            "Epoch 90/100\n",
            "7/7 [==============================] - 0s 4ms/step - loss: 3.5048\n",
            "Epoch 91/100\n",
            "7/7 [==============================] - 0s 3ms/step - loss: 3.4980\n",
            "Epoch 92/100\n",
            "7/7 [==============================] - 0s 3ms/step - loss: 3.4904\n",
            "Epoch 93/100\n",
            "7/7 [==============================] - 0s 3ms/step - loss: 3.4844\n",
            "Epoch 94/100\n",
            "7/7 [==============================] - 0s 3ms/step - loss: 3.4786\n",
            "Epoch 95/100\n",
            "7/7 [==============================] - 0s 3ms/step - loss: 3.4726\n",
            "Epoch 96/100\n",
            "7/7 [==============================] - 0s 4ms/step - loss: 3.4675\n",
            "Epoch 97/100\n",
            "7/7 [==============================] - 0s 3ms/step - loss: 3.4616\n",
            "Epoch 98/100\n",
            "7/7 [==============================] - 0s 3ms/step - loss: 3.4570\n",
            "Epoch 99/100\n",
            "7/7 [==============================] - 0s 3ms/step - loss: 3.4518\n",
            "Epoch 100/100\n",
            "7/7 [==============================] - 0s 3ms/step - loss: 3.4475\n"
          ]
        },
        {
          "output_type": "execute_result",
          "data": {
            "text/plain": [
              "<keras.callbacks.History at 0x7efcaf6d2860>"
            ]
          },
          "metadata": {},
          "execution_count": 13
        }
      ]
    },
    {
      "cell_type": "markdown",
      "source": [
        "those lines of code used to load the entire data from drive using os package\\\n",
        "those lines are worked prefect if you want to try the only problem is the size of the list as as menthined need alot of memory size"
      ],
      "metadata": {
        "id": "UtC61N2ZoDTD"
      }
    },
    {
      "cell_type": "code",
      "source": [
        "\"\"\"\n",
        "folder_path = \"/content/drive/MyDrive/Datasets/enronsent\"\n",
        "X_data = []\n",
        "Y_data = []\n",
        "\n",
        "for file_name in os.listdir(folder_path):\n",
        "  if file_name.endswith(\".txt\"):  # Check if the file is a text file\n",
        "        file_path = os.path.join(folder_path, file_name)\n",
        "        with open(file_path,'r') as file:\n",
        "          texts =file.read()\n",
        "\n",
        "          word_list,all_text = win(texts)\n",
        "          print(all_text)\n",
        "          unique_word_dict = create_unique_word_dict(all_text)\n",
        "          n_words = len(unique_word_dict)\n",
        "          X,Y = one_hot(unique_word_dict=unique_word_dict,word_list=word_list,n_words=n_words)\n",
        "          XX,YY = convert_tensors(X,Y)\n",
        "          X_data.append(XX)\n",
        "          Y_data.append(YY)\n",
        "          \"\"\""
      ],
      "metadata": {
        "id": "8j6QExFFoCTi"
      },
      "execution_count": null,
      "outputs": []
    },
    {
      "cell_type": "markdown",
      "source": [
        "This cell contain the same as above but split the file into paragraps"
      ],
      "metadata": {
        "id": "ag1xzyGXo_Sh"
      }
    },
    {
      "cell_type": "code",
      "source": [
        "\"\"\"\n",
        "folder_path = \"/content/drive/MyDrive/Datasets/enronsent\"\n",
        "X_data = []\n",
        "Y_data = []\n",
        "pars = []\n",
        "for file_name in os.listdir(folder_path):\n",
        "  if file_name.endswith(\".txt\"):  # Check if the file is a text file\n",
        "        file_path = os.path.join(folder_path, file_name)\n",
        "        with open(file_path,'r') as file:\n",
        "          ## here we split the text into small prags\n",
        "          for line in file:\n",
        "            if line.strip():\n",
        "              par +=line\n",
        "            elif par:\n",
        "              paras.append(par.strip())\n",
        "          if par:\n",
        "            paras.append(par.strip())\n",
        "          for par in pars:\n",
        "            word_list,all_text = win(par)\n",
        "            print(all_text)\n",
        "            unique_word_dict = create_unique_word_dict(all_text)\n",
        "            n_words = len(unique_word_dict)\n",
        "            X,Y = one_hot(unique_word_dict=unique_word_dict,word_list=word_list,n_words=n_words)\n",
        "            XX,YY = convert_tensors(X,Y)\n",
        "            X_data.append(XX)\n",
        "            Y_data.append(YY)\n",
        "            \"\"\""
      ],
      "metadata": {
        "id": "btlLPLinoncB"
      },
      "execution_count": null,
      "outputs": []
    },
    {
      "cell_type": "code",
      "source": [
        "weights = model.get_weights()[0]\n",
        "len(weights)"
      ],
      "metadata": {
        "colab": {
          "base_uri": "https://localhost:8080/"
        },
        "id": "i9aLK6aonqC5",
        "outputId": "3984d6d4-52e3-414f-b9b2-d6faa7a7babf"
      },
      "execution_count": null,
      "outputs": [
        {
          "output_type": "execute_result",
          "data": {
            "text/plain": [
              "47"
            ]
          },
          "metadata": {},
          "execution_count": 14
        }
      ]
    },
    {
      "cell_type": "code",
      "source": [
        "embeded_dict = get_embedding(unique_word_dict=unique_word_dict,weights=weights)"
      ],
      "metadata": {
        "id": "TgtSk0lyyZgO"
      },
      "execution_count": null,
      "outputs": []
    },
    {
      "cell_type": "code",
      "source": [
        "plotting(unique_word_dict=unique_word_dict,embedding_dict=embeded_dict)"
      ],
      "metadata": {
        "id": "K1Sp_eBC1wLA",
        "colab": {
          "base_uri": "https://localhost:8080/",
          "height": 1000
        },
        "outputId": "d087e183-0ca0-4df3-fb41-393c23c329bc"
      },
      "execution_count": null,
      "outputs": [
        {
          "output_type": "stream",
          "name": "stdout",
          "text": [
            "0  >>  (although,\n",
            "1  >>  -\n",
            "2  >>  /\n",
            "3  >>  adding\n",
            "4  >>  best\n",
            "5  >>  between\n",
            "6  >>  broken\n",
            "7  >>  child\n",
            "8  >>  correct\n",
            "9  >>  correlation\n",
            "10  >>  counterparty\n",
            "11  >>  create\n",
            "12  >>  defeats\n",
            "13  >>  division\n",
            "14  >>  downstream\n",
            "15  >>  either\n",
            "16  >>  establish\n",
            "17  >>  gcp\n",
            "18  >>  have\n",
            "19  >>  hello,\n",
            "20  >>  legal\n",
            "21  >>  links\n",
            "22  >>  name\n",
            "23  >>  name?\n",
            "24  >>  names\n",
            "25  >>  not\n",
            "26  >>  or\n",
            "27  >>  our\n",
            "28  >>  parent\n",
            "29  >>  past.)\n",
            "30  >>  procedure\n",
            "31  >>  provides\n",
            "32  >>  purpose\n",
            "33  >>  reflect\n",
            "34  >>  rgds.\n",
            "35  >>  rule\n",
            "36  >>  samuel\n",
            "37  >>  simultaneously.\n",
            "38  >>  systems.\n",
            "39  >>  that\n",
            "40  >>  to\n",
            "41  >>  tradename\n",
            "42  >>  tradename.\n",
            "43  >>  updates\n",
            "44  >>  using\n",
            "45  >>  we\n",
            "46  >>  yes,\n"
          ]
        },
        {
          "output_type": "display_data",
          "data": {
            "text/plain": [
              "<Figure size 2000x2000 with 1 Axes>"
            ],
            "image/png": "[encoded data removed]"
          },
          "metadata": {}
        }
      ]
    },
    {
      "cell_type": "code",
      "source": [
        "string = input(\"Enter your Syntax\")"
      ],
      "metadata": {
        "colab": {
          "base_uri": "https://localhost:8080/"
        },
        "id": "tcS0DxvTppzA",
        "outputId": "19519e27-04a6-48e4-8a5d-e758f038d929"
      },
      "execution_count": null,
      "outputs": [
        {
          "name": "stdout",
          "output_type": "stream",
          "text": [
            "Enter your Syntaxhello ibrahim i am the most wanted\n"
          ]
        }
      ]
    }
  ]
}